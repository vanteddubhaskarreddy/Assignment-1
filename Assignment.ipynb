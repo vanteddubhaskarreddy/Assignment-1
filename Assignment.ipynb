{
 "cells": [
  {
   "cell_type": "markdown",
   "metadata": {
    "colab_type": "text",
    "id": "view-in-github"
   },
   "source": [
    "<a href=\"https://colab.research.google.com/github/Mohith-0/NN-DL-A4/blob/main/ICP4.ipynb\" target=\"_parent\"><img src=\"https://colab.research.google.com/assets/colab-badge.svg\" alt=\"Open In Colab\"/></a>"
   ]
  },
  {
   "cell_type": "code",
   "execution_count": 1,
   "metadata": {
    "colab": {
     "base_uri": "https://localhost:8080/"
    },
    "id": "VMURThXFf9Wl",
    "outputId": "2b4883b9-ee09-4a86-840c-e31c02fc05f7"
   },
   "outputs": [
    {
     "name": "stdout",
     "output_type": "stream",
     "text": [
      "         Duration       Pulse    Maxpulse     Calories\n",
      "count  169.000000  169.000000  169.000000   164.000000\n",
      "mean    63.846154  107.461538  134.047337   375.790244\n",
      "std     42.299949   14.510259   16.450434   266.379919\n",
      "min     15.000000   80.000000  100.000000    50.300000\n",
      "25%     45.000000  100.000000  124.000000   250.925000\n",
      "50%     60.000000  105.000000  131.000000   318.600000\n",
      "75%     60.000000  111.000000  141.000000   387.600000\n",
      "max    300.000000  159.000000  184.000000  1860.400000\n"
     ]
    }
   ],
   "source": [
    "#1\n",
    "import pandas as pd\n",
    "import numpy as np\n",
    "import matplotlib.pyplot as plt\n",
    "\n",
    "#Reading the CSV file ‘data.csv’.\n",
    "\n",
    "df = pd.read_csv(\"data.csv\")\n",
    "\n",
    "#Show the basic statistical description about the data.\n",
    "\n",
    "print(df.describe())"
   ]
  },
  {
   "cell_type": "code",
   "execution_count": null,
   "metadata": {
    "id": "cIxahv5OIVIM"
   },
   "outputs": [],
   "source": []
  },
  {
   "cell_type": "code",
   "execution_count": 3,
   "metadata": {
    "colab": {
     "base_uri": "https://localhost:8080/"
    },
    "id": "TmkrB0GGiDJ-",
    "outputId": "26c1479b-330d-4e26-f78e-7ebdd743110c"
   },
   "outputs": [
    {
     "name": "stdout",
     "output_type": "stream",
     "text": [
      "Duration    0\n",
      "Pulse       0\n",
      "Maxpulse    0\n",
      "Calories    5\n",
      "dtype: int64\n"
     ]
    }
   ],
   "source": [
    "# Check for null values in the DataFrame\n",
    "null_values = df.isnull()\n",
    "\n",
    "# Count the number of null values in each column\n",
    "null_counts = null_values.sum()\n",
    "\n",
    "# Display the columns with their respective counts of null values\n",
    "print(null_counts)\n",
    "# df.isna().sum()"
   ]
  },
  {
   "cell_type": "code",
   "execution_count": 5,
   "metadata": {
    "colab": {
     "base_uri": "https://localhost:8080/"
    },
    "id": "V4325Kbbisb6",
    "outputId": "42e13166-16f6-48a5-9ff7-26bb32b03627"
   },
   "outputs": [
    {
     "name": "stdout",
     "output_type": "stream",
     "text": [
      "     Duration  Pulse  Maxpulse  Calories\n",
      "0          60    110       130     409.1\n",
      "1          60    117       145     479.0\n",
      "2          60    103       135     340.0\n",
      "3          45    109       175     282.4\n",
      "4          45    117       148     406.0\n",
      "..        ...    ...       ...       ...\n",
      "164        60    105       140     290.8\n",
      "165        60    110       145     300.0\n",
      "166        60    115       145     310.2\n",
      "167        75    120       150     320.4\n",
      "168        75    125       150     330.4\n",
      "\n",
      "[169 rows x 4 columns]\n"
     ]
    }
   ],
   "source": [
    "#d)Replacing Null values with the mean for Calories Column\n",
    "df[\"Calories\"].fillna(df[\"Calories\"].mean(),inplace=True)\n",
    "print(df)"
   ]
  },
  {
   "cell_type": "code",
   "execution_count": 7,
   "metadata": {
    "colab": {
     "base_uri": "https://localhost:8080/"
    },
    "id": "dA6KesIGjdMX",
    "outputId": "ce61baec-0373-454c-ece6-0be422f1d9b3"
   },
   "outputs": [
    {
     "data": {
      "text/plain": [
       "Duration    0\n",
       "Pulse       0\n",
       "Maxpulse    0\n",
       "Calories    0\n",
       "dtype: int64"
      ]
     },
     "execution_count": 7,
     "metadata": {},
     "output_type": "execute_result"
    }
   ],
   "source": [
    "#verifying any columns still with null values\n",
    "df.isna().sum()"
   ]
  },
  {
   "cell_type": "code",
   "execution_count": 9,
   "metadata": {
    "colab": {
     "base_uri": "https://localhost:8080/",
     "height": 173
    },
    "id": "dEVwnaQPjt6_",
    "outputId": "f1ed5eff-14fd-442b-8d87-155873610987"
   },
   "outputs": [
    {
     "data": {
      "text/html": [
       "<div>\n",
       "<style scoped>\n",
       "    .dataframe tbody tr th:only-of-type {\n",
       "        vertical-align: middle;\n",
       "    }\n",
       "\n",
       "    .dataframe tbody tr th {\n",
       "        vertical-align: top;\n",
       "    }\n",
       "\n",
       "    .dataframe thead th {\n",
       "        text-align: right;\n",
       "    }\n",
       "</style>\n",
       "<table border=\"1\" class=\"dataframe\">\n",
       "  <thead>\n",
       "    <tr style=\"text-align: right;\">\n",
       "      <th></th>\n",
       "      <th>Duration</th>\n",
       "      <th>Pulse</th>\n",
       "    </tr>\n",
       "  </thead>\n",
       "  <tbody>\n",
       "    <tr>\n",
       "      <th>min</th>\n",
       "      <td>15.000000</td>\n",
       "      <td>80.000000</td>\n",
       "    </tr>\n",
       "    <tr>\n",
       "      <th>max</th>\n",
       "      <td>300.000000</td>\n",
       "      <td>159.000000</td>\n",
       "    </tr>\n",
       "    <tr>\n",
       "      <th>count</th>\n",
       "      <td>169.000000</td>\n",
       "      <td>169.000000</td>\n",
       "    </tr>\n",
       "    <tr>\n",
       "      <th>mean</th>\n",
       "      <td>63.846154</td>\n",
       "      <td>107.461538</td>\n",
       "    </tr>\n",
       "  </tbody>\n",
       "</table>\n",
       "</div>"
      ],
      "text/plain": [
       "         Duration       Pulse\n",
       "min     15.000000   80.000000\n",
       "max    300.000000  159.000000\n",
       "count  169.000000  169.000000\n",
       "mean    63.846154  107.461538"
      ]
     },
     "execution_count": 9,
     "metadata": {},
     "output_type": "execute_result"
    }
   ],
   "source": [
    "#Selecting at least two columns and aggregate the data using: min, max, count, mean\n",
    "result = df[['Duration','Pulse']].agg(['min', 'max','count','mean'])\n",
    "result"
   ]
  },
  {
   "cell_type": "code",
   "execution_count": 11,
   "metadata": {
    "colab": {
     "base_uri": "https://localhost:8080/"
    },
    "id": "MRjd5S4Zj0OH",
    "outputId": "ccc49baf-25e8-495c-845c-96066df82ca6"
   },
   "outputs": [
    {
     "name": "stdout",
     "output_type": "stream",
     "text": [
      "     Duration  Pulse  Maxpulse  Calories\n",
      "51         80    123       146     643.1\n",
      "62        160    109       135     853.0\n",
      "65        180     90       130     800.4\n",
      "66        150    105       135     873.4\n",
      "67        150    107       130     816.0\n",
      "72         90    100       127     700.0\n",
      "73        150     97       127     953.2\n",
      "75         90     98       125     563.2\n",
      "78        120    100       130     500.4\n",
      "90        180    101       127     600.1\n",
      "99         90     93       124     604.1\n",
      "103        90     90       100     500.4\n",
      "106       180     90       120     800.3\n",
      "108        90     90       120     500.3\n"
     ]
    }
   ],
   "source": [
    "#Filtering the dataframe to select the rows with calories values between 500 and 1000.\n",
    "df = df[(df['Calories'] > 500) & (df['Calories'] < 1000)]\n",
    "print(df)"
   ]
  },
  {
   "cell_type": "code",
   "execution_count": 13,
   "metadata": {
    "colab": {
     "base_uri": "https://localhost:8080/"
    },
    "id": "4aA4LNqekTrJ",
    "outputId": "dc6b31a9-13b3-4ee6-b6f6-621a8f14b7fa"
   },
   "outputs": [
    {
     "name": "stdout",
     "output_type": "stream",
     "text": [
      "     Duration  Pulse  Maxpulse  Calories\n",
      "65        180     90       130     800.4\n",
      "73        150     97       127     953.2\n",
      "75         90     98       125     563.2\n",
      "99         90     93       124     604.1\n",
      "103        90     90       100     500.4\n",
      "106       180     90       120     800.3\n",
      "108        90     90       120     500.3\n"
     ]
    }
   ],
   "source": [
    "#Filter the dataframe to select the rows with calories values > 500 and pulse < 100\n",
    "df = df[(df['Calories'] > 500) & (df['Pulse'] < 100)]\n",
    "print(df)"
   ]
  },
  {
   "cell_type": "code",
   "execution_count": 15,
   "metadata": {
    "colab": {
     "base_uri": "https://localhost:8080/",
     "height": 266
    },
    "id": "8d-TV7TikVTy",
    "outputId": "1e7870b5-deb0-4943-e63e-e9cd1eb5b3cc"
   },
   "outputs": [
    {
     "data": {
      "text/html": [
       "<div>\n",
       "<style scoped>\n",
       "    .dataframe tbody tr th:only-of-type {\n",
       "        vertical-align: middle;\n",
       "    }\n",
       "\n",
       "    .dataframe tbody tr th {\n",
       "        vertical-align: top;\n",
       "    }\n",
       "\n",
       "    .dataframe thead th {\n",
       "        text-align: right;\n",
       "    }\n",
       "</style>\n",
       "<table border=\"1\" class=\"dataframe\">\n",
       "  <thead>\n",
       "    <tr style=\"text-align: right;\">\n",
       "      <th></th>\n",
       "      <th>Duration</th>\n",
       "      <th>Pulse</th>\n",
       "      <th>Calories</th>\n",
       "    </tr>\n",
       "  </thead>\n",
       "  <tbody>\n",
       "    <tr>\n",
       "      <th>65</th>\n",
       "      <td>180</td>\n",
       "      <td>90</td>\n",
       "      <td>800.4</td>\n",
       "    </tr>\n",
       "    <tr>\n",
       "      <th>73</th>\n",
       "      <td>150</td>\n",
       "      <td>97</td>\n",
       "      <td>953.2</td>\n",
       "    </tr>\n",
       "    <tr>\n",
       "      <th>75</th>\n",
       "      <td>90</td>\n",
       "      <td>98</td>\n",
       "      <td>563.2</td>\n",
       "    </tr>\n",
       "    <tr>\n",
       "      <th>99</th>\n",
       "      <td>90</td>\n",
       "      <td>93</td>\n",
       "      <td>604.1</td>\n",
       "    </tr>\n",
       "    <tr>\n",
       "      <th>103</th>\n",
       "      <td>90</td>\n",
       "      <td>90</td>\n",
       "      <td>500.4</td>\n",
       "    </tr>\n",
       "    <tr>\n",
       "      <th>106</th>\n",
       "      <td>180</td>\n",
       "      <td>90</td>\n",
       "      <td>800.3</td>\n",
       "    </tr>\n",
       "    <tr>\n",
       "      <th>108</th>\n",
       "      <td>90</td>\n",
       "      <td>90</td>\n",
       "      <td>500.3</td>\n",
       "    </tr>\n",
       "  </tbody>\n",
       "</table>\n",
       "</div>"
      ],
      "text/plain": [
       "     Duration  Pulse  Calories\n",
       "65        180     90     800.4\n",
       "73        150     97     953.2\n",
       "75         90     98     563.2\n",
       "99         90     93     604.1\n",
       "103        90     90     500.4\n",
       "106       180     90     800.3\n",
       "108        90     90     500.3"
      ]
     },
     "execution_count": 15,
     "metadata": {},
     "output_type": "execute_result"
    }
   ],
   "source": [
    "#Create a new “df_modified” dataframe that contains all the columns from df except for “Maxpulse”\n",
    "df_modified = df.loc[:, df.columns!='Maxpulse']\n",
    "df_modified"
   ]
  },
  {
   "cell_type": "code",
   "execution_count": 17,
   "metadata": {
    "colab": {
     "base_uri": "https://localhost:8080/"
    },
    "id": "BijRK0QAkbYV",
    "outputId": "0395d099-4a59-40db-a38d-5f523916af61"
   },
   "outputs": [
    {
     "name": "stdout",
     "output_type": "stream",
     "text": [
      "     Duration  Pulse  Calories\n",
      "65        180     90     800.4\n",
      "73        150     97     953.2\n",
      "75         90     98     563.2\n",
      "99         90     93     604.1\n",
      "103        90     90     500.4\n",
      "106       180     90     800.3\n",
      "108        90     90     500.3\n"
     ]
    }
   ],
   "source": [
    "#Delete the “Maxpulse” column from the main df dataframe\n",
    "if \"Maxpulse\" in df.columns:\n",
    "    df.drop(\"Maxpulse\", axis=1, inplace=True) #drop method removes the specified column or rows\n",
    "print(df)"
   ]
  },
  {
   "cell_type": "code",
   "execution_count": 19,
   "metadata": {},
   "outputs": [
    {
     "name": "stdout",
     "output_type": "stream",
     "text": [
      "     Duration  Pulse  Calories\n",
      "65        180     90       800\n",
      "73        150     97       953\n",
      "75         90     98       563\n",
      "99         90     93       604\n",
      "103        90     90       500\n",
      "106       180     90       800\n",
      "108        90     90       500\n"
     ]
    }
   ],
   "source": [
    "#Converting the datatype of Calories column to int datatype.\n",
    "df[\"Calories\"] = df[\"Calories\"].astype(int)\n",
    "print(df)"
   ]
  },
  {
   "cell_type": "code",
   "execution_count": null,
   "metadata": {},
   "outputs": [],
   "source": []
  },
  {
   "cell_type": "code",
   "execution_count": null,
   "metadata": {},
   "outputs": [],
   "source": []
  },
  {
   "cell_type": "code",
   "execution_count": null,
   "metadata": {},
   "outputs": [],
   "source": []
  },
  {
   "cell_type": "code",
   "execution_count": null,
   "metadata": {},
   "outputs": [],
   "source": []
  },
  {
   "cell_type": "code",
   "execution_count": null,
   "metadata": {},
   "outputs": [],
   "source": []
  }
 ],
 "metadata": {
  "colab": {
   "include_colab_link": true,
   "provenance": []
  },
  "kernelspec": {
   "display_name": "Python 3 (ipykernel)",
   "language": "python",
   "name": "python3"
  },
  "language_info": {
   "codemirror_mode": {
    "name": "ipython",
    "version": 3
   },
   "file_extension": ".py",
   "mimetype": "text/x-python",
   "name": "python",
   "nbconvert_exporter": "python",
   "pygments_lexer": "ipython3",
   "version": "3.11.5"
  }
 },
 "nbformat": 4,
 "nbformat_minor": 4
}
